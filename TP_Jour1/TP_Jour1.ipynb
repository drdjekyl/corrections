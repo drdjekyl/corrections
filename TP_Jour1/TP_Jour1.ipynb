{
 "cells": [
  {
   "cell_type": "markdown",
   "id": "8cae210a",
   "metadata": {},
   "source": [
    "## Énoncé 1\n",
    "\n",
    "#### Découvrir le langage Python à l'aide des formes géométriques : instanciation de classe, méthodes, attributs et héritage\n",
    "\n",
    "\n",
    "Pour cet exercice, vous devrez utiliser les concepts vu dans l'ensemble du troisième chapitre. Vous développerez un programme qui permet d'instancier des objets de la classe mère Figure et ses classes filles Quadrilatere, Carre, Rectangle.  \n",
    "Il sera nécessaire de veiller à la bonne répartition des méthodes et attributs dans chaque classe afin de calculer le périmètre et vérifier les propriétés géométriques de chacune de ces figures."
   ]
  },
  {
   "cell_type": "raw",
   "id": "95fa6f82",
   "metadata": {},
   "source": [
    "Regardez bien les différentes choses qu'on peut faire et ce à quoi on peut accéder ou non.\n",
    "Vous avez ici un fil conducteur."
   ]
  },
  {
   "cell_type": "code",
   "execution_count": 1,
   "id": "676f758c",
   "metadata": {
    "ExecuteTime": {
     "end_time": "2022-11-15T14:28:00.847560Z",
     "start_time": "2022-11-15T14:28:00.819360Z"
    }
   },
   "outputs": [],
   "source": [
    "class Figure:\n",
    "    def __init__(self, color):\n",
    "        \n",
    "        # This attributes is protected\n",
    "        self._color = color"
   ]
  },
  {
   "cell_type": "code",
   "execution_count": 2,
   "id": "af46ca62",
   "metadata": {
    "ExecuteTime": {
     "end_time": "2022-11-15T14:28:03.215724Z",
     "start_time": "2022-11-15T14:28:03.190997Z"
    }
   },
   "outputs": [],
   "source": [
    "fig = Figure('blue')"
   ]
  },
  {
   "cell_type": "code",
   "execution_count": 3,
   "id": "a9b8bf7a",
   "metadata": {
    "ExecuteTime": {
     "end_time": "2022-11-15T14:28:04.280874Z",
     "start_time": "2022-11-15T14:28:04.184533Z"
    }
   },
   "outputs": [
    {
     "ename": "AttributeError",
     "evalue": "'Figure' object has no attribute 'color'",
     "output_type": "error",
     "traceback": [
      "\u001b[0;31m---------------------------------------------------------------------------\u001b[0m",
      "\u001b[0;31mAttributeError\u001b[0m                            Traceback (most recent call last)",
      "\u001b[0;32m/var/folders/c5/bj_f_dwx33d769c_027k14180000gn/T/ipykernel_10964/2189935057.py\u001b[0m in \u001b[0;36m<module>\u001b[0;34m\u001b[0m\n\u001b[0;32m----> 1\u001b[0;31m \u001b[0mfig\u001b[0m\u001b[0;34m.\u001b[0m\u001b[0mcolor\u001b[0m\u001b[0;34m\u001b[0m\u001b[0;34m\u001b[0m\u001b[0m\n\u001b[0m",
      "\u001b[0;31mAttributeError\u001b[0m: 'Figure' object has no attribute 'color'"
     ]
    }
   ],
   "source": [
    "fig.color"
   ]
  },
  {
   "cell_type": "code",
   "execution_count": 4,
   "id": "78b2b4a0",
   "metadata": {
    "ExecuteTime": {
     "end_time": "2022-11-15T14:28:04.348106Z",
     "start_time": "2022-11-15T14:28:04.338588Z"
    }
   },
   "outputs": [],
   "source": [
    "class Figure2:\n",
    "    def __init__(self, color):\n",
    "        self._color = color\n",
    "        \n",
    "    @property\n",
    "    def color(self):\n",
    "        # With a getter I can acces my attribute\n",
    "        return self._color"
   ]
  },
  {
   "cell_type": "code",
   "execution_count": 5,
   "id": "38c67e55",
   "metadata": {
    "ExecuteTime": {
     "end_time": "2022-11-15T14:28:04.510625Z",
     "start_time": "2022-11-15T14:28:04.493409Z"
    }
   },
   "outputs": [],
   "source": [
    "fig2 = Figure2('pink')"
   ]
  },
  {
   "cell_type": "code",
   "execution_count": 6,
   "id": "46ec0d4f",
   "metadata": {
    "ExecuteTime": {
     "end_time": "2022-11-15T14:28:05.073451Z",
     "start_time": "2022-11-15T14:28:05.044045Z"
    }
   },
   "outputs": [
    {
     "data": {
      "text/plain": [
       "'pink'"
      ]
     },
     "execution_count": 6,
     "metadata": {},
     "output_type": "execute_result"
    }
   ],
   "source": [
    "fig2.color"
   ]
  },
  {
   "cell_type": "code",
   "execution_count": 7,
   "id": "afa9c347",
   "metadata": {
    "ExecuteTime": {
     "end_time": "2022-11-15T14:28:05.420121Z",
     "start_time": "2022-11-15T14:28:05.396500Z"
    }
   },
   "outputs": [
    {
     "ename": "AttributeError",
     "evalue": "can't set attribute 'color'",
     "output_type": "error",
     "traceback": [
      "\u001b[0;31m---------------------------------------------------------------------------\u001b[0m",
      "\u001b[0;31mAttributeError\u001b[0m                            Traceback (most recent call last)",
      "\u001b[0;32m/var/folders/c5/bj_f_dwx33d769c_027k14180000gn/T/ipykernel_10964/983927839.py\u001b[0m in \u001b[0;36m<module>\u001b[0;34m\u001b[0m\n\u001b[0;32m----> 1\u001b[0;31m \u001b[0mfig2\u001b[0m\u001b[0;34m.\u001b[0m\u001b[0mcolor\u001b[0m \u001b[0;34m=\u001b[0m \u001b[0;34m'green_forest'\u001b[0m\u001b[0;34m\u001b[0m\u001b[0;34m\u001b[0m\u001b[0m\n\u001b[0m",
      "\u001b[0;31mAttributeError\u001b[0m: can't set attribute 'color'"
     ]
    }
   ],
   "source": [
    "fig2.color = 'green_forest'"
   ]
  },
  {
   "cell_type": "code",
   "execution_count": 8,
   "id": "4425cf0d",
   "metadata": {
    "ExecuteTime": {
     "end_time": "2022-11-15T14:28:05.583229Z",
     "start_time": "2022-11-15T14:28:05.556642Z"
    }
   },
   "outputs": [],
   "source": [
    "class Figure3:\n",
    "    def __init__(self, color):\n",
    "        self._color = color\n",
    "\n",
    "    @property\n",
    "    def color(self):\n",
    "        return self._color\n",
    "\n",
    "    @color.setter\n",
    "    def color(self, color):\n",
    "        # Now I can set a new color too\n",
    "        self._color = color\n",
    "        \n",
    "    def is_method_shared(self):\n",
    "        # It's an example for later Class call, we don't use it for the moment\n",
    "        return ('Yay, my method inherits from Figure 3')"
   ]
  },
  {
   "cell_type": "code",
   "execution_count": 9,
   "id": "abb547e7",
   "metadata": {
    "ExecuteTime": {
     "end_time": "2022-11-15T14:28:06.281591Z",
     "start_time": "2022-11-15T14:28:06.258069Z"
    }
   },
   "outputs": [],
   "source": [
    "fig3 = Figure3('green')"
   ]
  },
  {
   "cell_type": "code",
   "execution_count": 10,
   "id": "6bae6104",
   "metadata": {
    "ExecuteTime": {
     "end_time": "2022-11-15T14:28:06.429995Z",
     "start_time": "2022-11-15T14:28:06.404831Z"
    }
   },
   "outputs": [
    {
     "data": {
      "text/plain": [
       "'green'"
      ]
     },
     "execution_count": 10,
     "metadata": {},
     "output_type": "execute_result"
    }
   ],
   "source": [
    "fig3.color"
   ]
  },
  {
   "cell_type": "code",
   "execution_count": 11,
   "id": "5a09e390",
   "metadata": {
    "ExecuteTime": {
     "end_time": "2022-11-15T14:28:06.578526Z",
     "start_time": "2022-11-15T14:28:06.553299Z"
    }
   },
   "outputs": [],
   "source": [
    "fig3.color = 'vert'"
   ]
  },
  {
   "cell_type": "code",
   "execution_count": 12,
   "id": "3d65db64",
   "metadata": {
    "ExecuteTime": {
     "end_time": "2022-11-15T14:28:06.733139Z",
     "start_time": "2022-11-15T14:28:06.704947Z"
    }
   },
   "outputs": [
    {
     "data": {
      "text/plain": [
       "'vert'"
      ]
     },
     "execution_count": 12,
     "metadata": {},
     "output_type": "execute_result"
    }
   ],
   "source": [
    "fig3.color"
   ]
  },
  {
   "cell_type": "code",
   "execution_count": 13,
   "id": "37c9765e",
   "metadata": {
    "ExecuteTime": {
     "end_time": "2022-11-15T14:28:06.883056Z",
     "start_time": "2022-11-15T14:28:06.855635Z"
    }
   },
   "outputs": [],
   "source": [
    "class Rectangle(Figure3):\n",
    "    \"\"\"Inherits from Figure3\"\"\"\n",
    "    \n",
    "    def __init__(self, width, height):\n",
    "        \n",
    "        # TAKE ATTENTION TO SUPER INIT IS NOT USED HERE !!!\n",
    "        \n",
    "        #super().__init__(color)\n",
    "        self._width = width\n",
    "        self._height = height\n",
    "\n",
    "    @property\n",
    "    def width(self):\n",
    "        return self._width\n",
    "\n",
    "    @width.setter\n",
    "    def width(self, value):\n",
    "         self._width = value\n",
    "            \n",
    "    @property\n",
    "    def height(self):\n",
    "        return self._height\n",
    "\n",
    "    @height.setter\n",
    "    def height(self, value):\n",
    "        self._height = value\n",
    "\n",
    "    def calcul_perimetre(self):\n",
    "        return 2 * self.width + 2 * self.height"
   ]
  },
  {
   "cell_type": "code",
   "execution_count": 14,
   "id": "3fb87aa7",
   "metadata": {
    "ExecuteTime": {
     "end_time": "2022-11-15T14:28:07.030883Z",
     "start_time": "2022-11-15T14:28:07.011182Z"
    }
   },
   "outputs": [],
   "source": [
    "rect = Rectangle(3, 5)"
   ]
  },
  {
   "cell_type": "code",
   "execution_count": 15,
   "id": "bc6097c6",
   "metadata": {
    "ExecuteTime": {
     "end_time": "2022-11-15T14:28:07.480302Z",
     "start_time": "2022-11-15T14:28:07.452629Z"
    }
   },
   "outputs": [
    {
     "ename": "AttributeError",
     "evalue": "'Rectangle' object has no attribute '_color'",
     "output_type": "error",
     "traceback": [
      "\u001b[0;31m---------------------------------------------------------------------------\u001b[0m",
      "\u001b[0;31mAttributeError\u001b[0m                            Traceback (most recent call last)",
      "\u001b[0;32m/var/folders/c5/bj_f_dwx33d769c_027k14180000gn/T/ipykernel_10964/4150096802.py\u001b[0m in \u001b[0;36m<module>\u001b[0;34m\u001b[0m\n\u001b[0;32m----> 1\u001b[0;31m \u001b[0mrect\u001b[0m\u001b[0;34m.\u001b[0m\u001b[0mcolor\u001b[0m\u001b[0;34m\u001b[0m\u001b[0;34m\u001b[0m\u001b[0m\n\u001b[0m",
      "\u001b[0;32m/var/folders/c5/bj_f_dwx33d769c_027k14180000gn/T/ipykernel_10964/2764595209.py\u001b[0m in \u001b[0;36mcolor\u001b[0;34m(self)\u001b[0m\n\u001b[1;32m      5\u001b[0m     \u001b[0;34m@\u001b[0m\u001b[0mproperty\u001b[0m\u001b[0;34m\u001b[0m\u001b[0;34m\u001b[0m\u001b[0m\n\u001b[1;32m      6\u001b[0m     \u001b[0;32mdef\u001b[0m \u001b[0mcolor\u001b[0m\u001b[0;34m(\u001b[0m\u001b[0mself\u001b[0m\u001b[0;34m)\u001b[0m\u001b[0;34m:\u001b[0m\u001b[0;34m\u001b[0m\u001b[0;34m\u001b[0m\u001b[0m\n\u001b[0;32m----> 7\u001b[0;31m         \u001b[0;32mreturn\u001b[0m \u001b[0mself\u001b[0m\u001b[0;34m.\u001b[0m\u001b[0m_color\u001b[0m\u001b[0;34m\u001b[0m\u001b[0;34m\u001b[0m\u001b[0m\n\u001b[0m\u001b[1;32m      8\u001b[0m \u001b[0;34m\u001b[0m\u001b[0m\n\u001b[1;32m      9\u001b[0m     \u001b[0;34m@\u001b[0m\u001b[0mcolor\u001b[0m\u001b[0;34m.\u001b[0m\u001b[0msetter\u001b[0m\u001b[0;34m\u001b[0m\u001b[0;34m\u001b[0m\u001b[0m\n",
      "\u001b[0;31mAttributeError\u001b[0m: 'Rectangle' object has no attribute '_color'"
     ]
    }
   ],
   "source": [
    "rect.color"
   ]
  },
  {
   "cell_type": "code",
   "execution_count": 16,
   "id": "49645cb5",
   "metadata": {
    "ExecuteTime": {
     "end_time": "2022-11-15T14:28:07.768347Z",
     "start_time": "2022-11-15T14:28:07.745401Z"
    }
   },
   "outputs": [
    {
     "data": {
      "text/plain": [
       "'Yay, my method inherits from Figure 3'"
      ]
     },
     "execution_count": 16,
     "metadata": {},
     "output_type": "execute_result"
    }
   ],
   "source": [
    "rect.is_method_shared()"
   ]
  },
  {
   "cell_type": "code",
   "execution_count": 17,
   "id": "9294c2bd",
   "metadata": {
    "ExecuteTime": {
     "end_time": "2022-11-15T14:28:08.482788Z",
     "start_time": "2022-11-15T14:28:08.457607Z"
    }
   },
   "outputs": [
    {
     "data": {
      "text/plain": [
       "16"
      ]
     },
     "execution_count": 17,
     "metadata": {},
     "output_type": "execute_result"
    }
   ],
   "source": [
    "rect.calcul_perimetre()"
   ]
  },
  {
   "cell_type": "code",
   "execution_count": 18,
   "id": "83c1b860",
   "metadata": {
    "ExecuteTime": {
     "end_time": "2022-11-15T14:28:08.665091Z",
     "start_time": "2022-11-15T14:28:08.640760Z"
    }
   },
   "outputs": [],
   "source": [
    "class Rectangle2(Figure3):\n",
    "    \"\"\"Inherits from Figure3 too, but now we apply SUPER init\"\"\"\n",
    "    def __init__(self, color, width, length):\n",
    "        \n",
    "        super().__init__(color) # Now we can access getter and setter from Figure3\n",
    "        \n",
    "        # Check geometric conditions\n",
    "        #assert width < length, 'Width is not smallest than length'\n",
    "        self._width = width\n",
    "        self._length = length\n",
    "        \n",
    "\n",
    "    @property\n",
    "    def width(self):\n",
    "        return self._width\n",
    "\n",
    "    @width.setter\n",
    "    def width(self, value):\n",
    "         self._width = value\n",
    "            \n",
    "    @property\n",
    "    def length(self):\n",
    "        return self._length\n",
    "\n",
    "    @length.setter\n",
    "    def length(self, value):\n",
    "        self._length = value\n",
    "\n",
    "    def calcul_perimetre(self):\n",
    "        return 2 * self._width + 2 * self._length"
   ]
  },
  {
   "cell_type": "code",
   "execution_count": 19,
   "id": "cf8d00b4",
   "metadata": {
    "ExecuteTime": {
     "end_time": "2022-11-15T14:28:10.341830Z",
     "start_time": "2022-11-15T14:28:10.316857Z"
    }
   },
   "outputs": [],
   "source": [
    "rect2 = Rectangle2('deep_blue', 5, 4)"
   ]
  },
  {
   "cell_type": "code",
   "execution_count": 35,
   "id": "09ac9e9a",
   "metadata": {
    "ExecuteTime": {
     "end_time": "2022-07-05T17:58:18.753840Z",
     "start_time": "2022-07-05T17:58:18.737937Z"
    }
   },
   "outputs": [],
   "source": [
    "rect2 = Rectangle2('deep_blue', 3, 4)"
   ]
  },
  {
   "cell_type": "code",
   "execution_count": 20,
   "id": "e843477a",
   "metadata": {
    "ExecuteTime": {
     "end_time": "2022-11-15T14:28:14.235503Z",
     "start_time": "2022-11-15T14:28:14.212929Z"
    }
   },
   "outputs": [
    {
     "data": {
      "text/plain": [
       "'deep_blue'"
      ]
     },
     "execution_count": 20,
     "metadata": {},
     "output_type": "execute_result"
    }
   ],
   "source": [
    "rect2.color"
   ]
  },
  {
   "cell_type": "code",
   "execution_count": 22,
   "id": "aab66a58",
   "metadata": {
    "ExecuteTime": {
     "end_time": "2022-11-15T14:28:37.206432Z",
     "start_time": "2022-11-15T14:28:37.195766Z"
    }
   },
   "outputs": [
    {
     "data": {
      "text/plain": [
       "False"
      ]
     },
     "execution_count": 22,
     "metadata": {},
     "output_type": "execute_result"
    }
   ],
   "source": [
    "rect2 is fig3"
   ]
  },
  {
   "cell_type": "code",
   "execution_count": 21,
   "id": "9328c928",
   "metadata": {
    "ExecuteTime": {
     "end_time": "2022-07-05T17:41:57.476406Z",
     "start_time": "2022-07-05T17:41:57.460286Z"
    }
   },
   "outputs": [
    {
     "data": {
      "text/plain": [
       "14"
      ]
     },
     "execution_count": 21,
     "metadata": {},
     "output_type": "execute_result"
    }
   ],
   "source": [
    "rect2.calcul_perimetre()"
   ]
  },
  {
   "cell_type": "code",
   "execution_count": 22,
   "id": "e2950ac9",
   "metadata": {
    "ExecuteTime": {
     "end_time": "2022-07-05T17:41:58.985230Z",
     "start_time": "2022-07-05T17:41:58.966889Z"
    }
   },
   "outputs": [
    {
     "data": {
      "text/plain": [
       "3"
      ]
     },
     "execution_count": 22,
     "metadata": {},
     "output_type": "execute_result"
    }
   ],
   "source": [
    "rect2.width"
   ]
  },
  {
   "cell_type": "code",
   "execution_count": 23,
   "id": "d0d61688",
   "metadata": {
    "ExecuteTime": {
     "end_time": "2022-07-05T17:42:00.496942Z",
     "start_time": "2022-07-05T17:42:00.484370Z"
    }
   },
   "outputs": [],
   "source": [
    "rect2.color = 'lemon'"
   ]
  },
  {
   "cell_type": "code",
   "execution_count": 24,
   "id": "1aa8bab1",
   "metadata": {
    "ExecuteTime": {
     "end_time": "2022-07-05T17:42:00.687045Z",
     "start_time": "2022-07-05T17:42:00.670698Z"
    }
   },
   "outputs": [
    {
     "data": {
      "text/plain": [
       "'lemon'"
      ]
     },
     "execution_count": 24,
     "metadata": {},
     "output_type": "execute_result"
    }
   ],
   "source": [
    "rect2.color"
   ]
  },
  {
   "cell_type": "code",
   "execution_count": 25,
   "id": "8992faf1",
   "metadata": {
    "ExecuteTime": {
     "end_time": "2022-07-05T17:42:00.846353Z",
     "start_time": "2022-07-05T17:42:00.826649Z"
    }
   },
   "outputs": [
    {
     "data": {
      "text/plain": [
       "'Yay, my method inherits from Figure 3'"
      ]
     },
     "execution_count": 25,
     "metadata": {},
     "output_type": "execute_result"
    }
   ],
   "source": [
    "rect2.is_method_shared()"
   ]
  },
  {
   "cell_type": "code",
   "execution_count": 26,
   "id": "18b8c082",
   "metadata": {
    "ExecuteTime": {
     "end_time": "2022-07-05T17:42:02.981090Z",
     "start_time": "2022-07-05T17:42:02.964930Z"
    }
   },
   "outputs": [],
   "source": [
    "class Carre(Rectangle2):\n",
    "    \"\"\"Inherits from Rectangle2\"\"\"\n",
    "    def __init__(self, color, length):\n",
    "        super().__init__(color, length, length) # Here I call the constructor from Rectangle2\n",
    "        \n",
    "        # We set a public attribute\n",
    "        self.length = length"
   ]
  },
  {
   "cell_type": "code",
   "execution_count": 27,
   "id": "798cf20b",
   "metadata": {
    "ExecuteTime": {
     "end_time": "2022-07-05T17:42:03.528618Z",
     "start_time": "2022-07-05T17:42:03.514535Z"
    }
   },
   "outputs": [],
   "source": [
    "carre = Carre('black', 5)"
   ]
  },
  {
   "cell_type": "code",
   "execution_count": 28,
   "id": "28871815",
   "metadata": {
    "ExecuteTime": {
     "end_time": "2022-07-05T17:42:05.373559Z",
     "start_time": "2022-07-05T17:42:05.358914Z"
    }
   },
   "outputs": [
    {
     "data": {
      "text/plain": [
       "20"
      ]
     },
     "execution_count": 28,
     "metadata": {},
     "output_type": "execute_result"
    }
   ],
   "source": [
    "carre.calcul_perimetre()"
   ]
  },
  {
   "cell_type": "code",
   "execution_count": 29,
   "id": "7db49c01",
   "metadata": {
    "ExecuteTime": {
     "end_time": "2022-07-05T17:42:06.460577Z",
     "start_time": "2022-07-05T17:42:06.444819Z"
    }
   },
   "outputs": [
    {
     "data": {
      "text/plain": [
       "'black'"
      ]
     },
     "execution_count": 29,
     "metadata": {},
     "output_type": "execute_result"
    }
   ],
   "source": [
    "carre.color"
   ]
  },
  {
   "cell_type": "code",
   "execution_count": 30,
   "id": "6a3bf062",
   "metadata": {
    "ExecuteTime": {
     "end_time": "2022-07-05T17:42:07.991645Z",
     "start_time": "2022-07-05T17:42:07.975443Z"
    }
   },
   "outputs": [
    {
     "data": {
      "text/plain": [
       "'Yay, my method inherits from Figure 3'"
      ]
     },
     "execution_count": 30,
     "metadata": {},
     "output_type": "execute_result"
    }
   ],
   "source": [
    "carre.is_method_shared()"
   ]
  },
  {
   "cell_type": "code",
   "execution_count": 31,
   "id": "dcb47ad8",
   "metadata": {
    "ExecuteTime": {
     "end_time": "2022-07-05T17:42:09.187814Z",
     "start_time": "2022-07-05T17:42:09.172911Z"
    }
   },
   "outputs": [
    {
     "data": {
      "text/plain": [
       "(5, 5, 5)"
      ]
     },
     "execution_count": 31,
     "metadata": {},
     "output_type": "execute_result"
    }
   ],
   "source": [
    "# Now a little bit tricky\n",
    "\n",
    "carre.width, carre.length, carre.height"
   ]
  }
 ],
 "metadata": {
  "kernelspec": {
   "display_name": "Python 3 (ipykernel)",
   "language": "python",
   "name": "python3"
  },
  "language_info": {
   "codemirror_mode": {
    "name": "ipython",
    "version": 3
   },
   "file_extension": ".py",
   "mimetype": "text/x-python",
   "name": "python",
   "nbconvert_exporter": "python",
   "pygments_lexer": "ipython3",
   "version": "3.10.0"
  }
 },
 "nbformat": 4,
 "nbformat_minor": 5
}
